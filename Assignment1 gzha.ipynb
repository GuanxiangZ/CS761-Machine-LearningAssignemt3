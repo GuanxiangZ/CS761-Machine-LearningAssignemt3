{
 "cells": [
  {
   "cell_type": "markdown",
   "id": "3bea7711",
   "metadata": {},
   "source": [
    "# Assignment1"
   ]
  },
  {
   "cell_type": "markdown",
   "id": "2d508e06",
   "metadata": {},
   "source": [
    "## Guanxiang Zhao\n",
    "## gzha644"
   ]
  },
  {
   "cell_type": "markdown",
   "id": "834773dc",
   "metadata": {},
   "source": [
    "### Task1: Load the datasets. "
   ]
  },
  {
   "cell_type": "code",
   "execution_count": 1,
   "id": "64c16d1d",
   "metadata": {},
   "outputs": [
    {
     "ename": "ModuleNotFoundError",
     "evalue": "No module named 'mlxtend'",
     "output_type": "error",
     "traceback": [
      "\u001b[1;31m---------------------------------------------------------------------------\u001b[0m",
      "\u001b[1;31mModuleNotFoundError\u001b[0m                       Traceback (most recent call last)",
      "\u001b[1;32m~\\AppData\\Local\\Temp/ipykernel_2804/2295300638.py\u001b[0m in \u001b[0;36m<module>\u001b[1;34m\u001b[0m\n\u001b[0;32m      8\u001b[0m \u001b[1;32mfrom\u001b[0m \u001b[0msklearn\u001b[0m\u001b[1;33m.\u001b[0m\u001b[0mmodel_selection\u001b[0m \u001b[1;32mimport\u001b[0m \u001b[0mtrain_test_split\u001b[0m\u001b[1;33m\u001b[0m\u001b[1;33m\u001b[0m\u001b[0m\n\u001b[0;32m      9\u001b[0m \u001b[1;32mfrom\u001b[0m \u001b[0msklearn\u001b[0m\u001b[1;33m.\u001b[0m\u001b[0mmodel_selection\u001b[0m \u001b[1;32mimport\u001b[0m \u001b[0mGridSearchCV\u001b[0m\u001b[1;33m\u001b[0m\u001b[1;33m\u001b[0m\u001b[0m\n\u001b[1;32m---> 10\u001b[1;33m \u001b[1;32mfrom\u001b[0m \u001b[0mmlxtend\u001b[0m\u001b[1;33m.\u001b[0m\u001b[0mevaluate\u001b[0m \u001b[1;32mimport\u001b[0m \u001b[0mpaired_ttest_kfold_cv\u001b[0m\u001b[1;33m\u001b[0m\u001b[1;33m\u001b[0m\u001b[0m\n\u001b[0m\u001b[0;32m     11\u001b[0m \u001b[1;32mimport\u001b[0m \u001b[0mmatplotlib\u001b[0m\u001b[1;33m.\u001b[0m\u001b[0mpyplot\u001b[0m \u001b[1;32mas\u001b[0m \u001b[0mplt\u001b[0m\u001b[1;33m\u001b[0m\u001b[1;33m\u001b[0m\u001b[0m\n\u001b[0;32m     12\u001b[0m \u001b[1;32mimport\u001b[0m \u001b[0mpandas\u001b[0m \u001b[1;32mas\u001b[0m \u001b[0mpd\u001b[0m\u001b[1;33m\u001b[0m\u001b[1;33m\u001b[0m\u001b[0m\n",
      "\u001b[1;31mModuleNotFoundError\u001b[0m: No module named 'mlxtend'"
     ]
    }
   ],
   "source": [
    "import os\n",
    "\n",
    "import numpy as np\n",
    "from pathlib import Path\n",
    "from sklearn import tree\n",
    "from sklearn.tree import DecisionTreeClassifier\n",
    "from sklearn import datasets\n",
    "from sklearn.model_selection import train_test_split\n",
    "from sklearn.model_selection import GridSearchCV\n",
    "from mlxtend.evaluate import paired_ttest_kfold_cv\n",
    "import matplotlib.pyplot as plt\n",
    "import pandas as pd\n",
    "from pandas.api.types import CategoricalDtype\n"
   ]
  },
  {
   "cell_type": "markdown",
   "id": "f495aa1a",
   "metadata": {},
   "source": [
    "###### website-phishing dataset"
   ]
  },
  {
   "cell_type": "markdown",
   "id": "57aef59f",
   "metadata": {},
   "source": [
    "Load the website phishing dataset from csv file. There is no any missing data in this dataset. "
   ]
  },
  {
   "cell_type": "code",
   "execution_count": 2,
   "id": "72607d6f",
   "metadata": {},
   "outputs": [
    {
     "data": {
      "text/html": [
       "<div>\n",
       "<style scoped>\n",
       "    .dataframe tbody tr th:only-of-type {\n",
       "        vertical-align: middle;\n",
       "    }\n",
       "\n",
       "    .dataframe tbody tr th {\n",
       "        vertical-align: top;\n",
       "    }\n",
       "\n",
       "    .dataframe thead th {\n",
       "        text-align: right;\n",
       "    }\n",
       "</style>\n",
       "<table border=\"1\" class=\"dataframe\">\n",
       "  <thead>\n",
       "    <tr style=\"text-align: right;\">\n",
       "      <th></th>\n",
       "      <th>having_IP_Address</th>\n",
       "      <th>URL_Length</th>\n",
       "      <th>Shortining_Service</th>\n",
       "      <th>having_At_Symbol</th>\n",
       "      <th>double_slash_redirecting</th>\n",
       "      <th>Prefix_Suffix</th>\n",
       "      <th>having_Sub_Domain</th>\n",
       "      <th>SSLfinal_State</th>\n",
       "      <th>Domain_registeration_length</th>\n",
       "      <th>Favicon</th>\n",
       "      <th>...</th>\n",
       "      <th>popUpWidnow</th>\n",
       "      <th>Iframe</th>\n",
       "      <th>age_of_domain</th>\n",
       "      <th>DNSRecord</th>\n",
       "      <th>web_traffic</th>\n",
       "      <th>Page_Rank</th>\n",
       "      <th>Google_Index</th>\n",
       "      <th>Links_pointing_to_page</th>\n",
       "      <th>Statistical_report</th>\n",
       "      <th>Class</th>\n",
       "    </tr>\n",
       "  </thead>\n",
       "  <tbody>\n",
       "    <tr>\n",
       "      <th>0</th>\n",
       "      <td>-1</td>\n",
       "      <td>1</td>\n",
       "      <td>1</td>\n",
       "      <td>1</td>\n",
       "      <td>-1</td>\n",
       "      <td>-1</td>\n",
       "      <td>-1</td>\n",
       "      <td>-1</td>\n",
       "      <td>-1</td>\n",
       "      <td>1</td>\n",
       "      <td>...</td>\n",
       "      <td>1</td>\n",
       "      <td>1</td>\n",
       "      <td>-1</td>\n",
       "      <td>-1</td>\n",
       "      <td>-1</td>\n",
       "      <td>-1</td>\n",
       "      <td>1</td>\n",
       "      <td>1</td>\n",
       "      <td>-1</td>\n",
       "      <td>-1</td>\n",
       "    </tr>\n",
       "    <tr>\n",
       "      <th>1</th>\n",
       "      <td>1</td>\n",
       "      <td>1</td>\n",
       "      <td>1</td>\n",
       "      <td>1</td>\n",
       "      <td>1</td>\n",
       "      <td>-1</td>\n",
       "      <td>0</td>\n",
       "      <td>1</td>\n",
       "      <td>-1</td>\n",
       "      <td>1</td>\n",
       "      <td>...</td>\n",
       "      <td>1</td>\n",
       "      <td>1</td>\n",
       "      <td>-1</td>\n",
       "      <td>-1</td>\n",
       "      <td>0</td>\n",
       "      <td>-1</td>\n",
       "      <td>1</td>\n",
       "      <td>1</td>\n",
       "      <td>1</td>\n",
       "      <td>-1</td>\n",
       "    </tr>\n",
       "    <tr>\n",
       "      <th>2</th>\n",
       "      <td>1</td>\n",
       "      <td>0</td>\n",
       "      <td>1</td>\n",
       "      <td>1</td>\n",
       "      <td>1</td>\n",
       "      <td>-1</td>\n",
       "      <td>-1</td>\n",
       "      <td>-1</td>\n",
       "      <td>-1</td>\n",
       "      <td>1</td>\n",
       "      <td>...</td>\n",
       "      <td>1</td>\n",
       "      <td>1</td>\n",
       "      <td>1</td>\n",
       "      <td>-1</td>\n",
       "      <td>1</td>\n",
       "      <td>-1</td>\n",
       "      <td>1</td>\n",
       "      <td>0</td>\n",
       "      <td>-1</td>\n",
       "      <td>-1</td>\n",
       "    </tr>\n",
       "    <tr>\n",
       "      <th>3</th>\n",
       "      <td>1</td>\n",
       "      <td>0</td>\n",
       "      <td>1</td>\n",
       "      <td>1</td>\n",
       "      <td>1</td>\n",
       "      <td>-1</td>\n",
       "      <td>-1</td>\n",
       "      <td>-1</td>\n",
       "      <td>1</td>\n",
       "      <td>1</td>\n",
       "      <td>...</td>\n",
       "      <td>1</td>\n",
       "      <td>1</td>\n",
       "      <td>-1</td>\n",
       "      <td>-1</td>\n",
       "      <td>1</td>\n",
       "      <td>-1</td>\n",
       "      <td>1</td>\n",
       "      <td>-1</td>\n",
       "      <td>1</td>\n",
       "      <td>-1</td>\n",
       "    </tr>\n",
       "    <tr>\n",
       "      <th>4</th>\n",
       "      <td>1</td>\n",
       "      <td>0</td>\n",
       "      <td>-1</td>\n",
       "      <td>1</td>\n",
       "      <td>1</td>\n",
       "      <td>-1</td>\n",
       "      <td>1</td>\n",
       "      <td>1</td>\n",
       "      <td>-1</td>\n",
       "      <td>1</td>\n",
       "      <td>...</td>\n",
       "      <td>-1</td>\n",
       "      <td>1</td>\n",
       "      <td>-1</td>\n",
       "      <td>-1</td>\n",
       "      <td>0</td>\n",
       "      <td>-1</td>\n",
       "      <td>1</td>\n",
       "      <td>1</td>\n",
       "      <td>1</td>\n",
       "      <td>1</td>\n",
       "    </tr>\n",
       "  </tbody>\n",
       "</table>\n",
       "<p>5 rows × 31 columns</p>\n",
       "</div>"
      ],
      "text/plain": [
       "   having_IP_Address   URL_Length   Shortining_Service   having_At_Symbol  \\\n",
       "0                 -1            1                    1                  1   \n",
       "1                  1            1                    1                  1   \n",
       "2                  1            0                    1                  1   \n",
       "3                  1            0                    1                  1   \n",
       "4                  1            0                   -1                  1   \n",
       "\n",
       "    double_slash_redirecting   Prefix_Suffix   having_Sub_Domain  \\\n",
       "0                         -1              -1                  -1   \n",
       "1                          1              -1                   0   \n",
       "2                          1              -1                  -1   \n",
       "3                          1              -1                  -1   \n",
       "4                          1              -1                   1   \n",
       "\n",
       "    SSLfinal_State   Domain_registeration_length   Favicon  ...  \\\n",
       "0               -1                            -1         1  ...   \n",
       "1                1                            -1         1  ...   \n",
       "2               -1                            -1         1  ...   \n",
       "3               -1                             1         1  ...   \n",
       "4                1                            -1         1  ...   \n",
       "\n",
       "    popUpWidnow    Iframe   age_of_domain    DNSRecord     web_traffic   \\\n",
       "0              1        1               -1            -1             -1   \n",
       "1              1        1               -1            -1              0   \n",
       "2              1        1                1            -1              1   \n",
       "3              1        1               -1            -1              1   \n",
       "4             -1        1               -1            -1              0   \n",
       "\n",
       "    Page_Rank   Google_Index   Links_pointing_to_page   Statistical_report  \\\n",
       "0          -1              1                        1                   -1   \n",
       "1          -1              1                        1                    1   \n",
       "2          -1              1                        0                   -1   \n",
       "3          -1              1                       -1                    1   \n",
       "4          -1              1                        1                    1   \n",
       "\n",
       "     Class   \n",
       "0        -1  \n",
       "1        -1  \n",
       "2        -1  \n",
       "3        -1  \n",
       "4         1  \n",
       "\n",
       "[5 rows x 31 columns]"
      ]
     },
     "execution_count": 2,
     "metadata": {},
     "output_type": "execute_result"
    }
   ],
   "source": [
    "website_phishing = pd.read_csv('website-phishing.csv')\n",
    "website_phishing.head()"
   ]
  },
  {
   "cell_type": "markdown",
   "id": "e826ff1b",
   "metadata": {},
   "source": [
    "###### BCP dataset"
   ]
  },
  {
   "cell_type": "markdown",
   "id": "3ee21a39",
   "metadata": {},
   "source": [
    "Load the BCP dataset from csv file. There is no any missing data in this dataset. Deleting the first colume because the 'Sample code number' colume is no used for build model. "
   ]
  },
  {
   "cell_type": "code",
   "execution_count": 3,
   "id": "62e70588",
   "metadata": {
    "scrolled": true
   },
   "outputs": [
    {
     "data": {
      "text/html": [
       "<div>\n",
       "<style scoped>\n",
       "    .dataframe tbody tr th:only-of-type {\n",
       "        vertical-align: middle;\n",
       "    }\n",
       "\n",
       "    .dataframe tbody tr th {\n",
       "        vertical-align: top;\n",
       "    }\n",
       "\n",
       "    .dataframe thead th {\n",
       "        text-align: right;\n",
       "    }\n",
       "</style>\n",
       "<table border=\"1\" class=\"dataframe\">\n",
       "  <thead>\n",
       "    <tr style=\"text-align: right;\">\n",
       "      <th></th>\n",
       "      <th>Sample code number</th>\n",
       "      <th>Clump Thickness</th>\n",
       "      <th>Uniformity of Cell Size</th>\n",
       "      <th>Uniformity of Cell Shape</th>\n",
       "      <th>Marginal Adhesion</th>\n",
       "      <th>Single Epithelial Cell Size</th>\n",
       "      <th>Bare Nuclei</th>\n",
       "      <th>Bland Chromatin</th>\n",
       "      <th>Normal Nucleoli</th>\n",
       "      <th>Mitoses</th>\n",
       "      <th>Class</th>\n",
       "    </tr>\n",
       "  </thead>\n",
       "  <tbody>\n",
       "    <tr>\n",
       "      <th>0</th>\n",
       "      <td>1000025</td>\n",
       "      <td>5</td>\n",
       "      <td>1</td>\n",
       "      <td>1</td>\n",
       "      <td>1</td>\n",
       "      <td>2</td>\n",
       "      <td>1</td>\n",
       "      <td>3</td>\n",
       "      <td>1</td>\n",
       "      <td>1</td>\n",
       "      <td>2</td>\n",
       "    </tr>\n",
       "    <tr>\n",
       "      <th>1</th>\n",
       "      <td>1002945</td>\n",
       "      <td>5</td>\n",
       "      <td>4</td>\n",
       "      <td>4</td>\n",
       "      <td>5</td>\n",
       "      <td>7</td>\n",
       "      <td>10</td>\n",
       "      <td>3</td>\n",
       "      <td>2</td>\n",
       "      <td>1</td>\n",
       "      <td>2</td>\n",
       "    </tr>\n",
       "    <tr>\n",
       "      <th>2</th>\n",
       "      <td>1015425</td>\n",
       "      <td>3</td>\n",
       "      <td>1</td>\n",
       "      <td>1</td>\n",
       "      <td>1</td>\n",
       "      <td>2</td>\n",
       "      <td>2</td>\n",
       "      <td>3</td>\n",
       "      <td>1</td>\n",
       "      <td>1</td>\n",
       "      <td>2</td>\n",
       "    </tr>\n",
       "    <tr>\n",
       "      <th>3</th>\n",
       "      <td>1016277</td>\n",
       "      <td>6</td>\n",
       "      <td>8</td>\n",
       "      <td>8</td>\n",
       "      <td>1</td>\n",
       "      <td>3</td>\n",
       "      <td>4</td>\n",
       "      <td>3</td>\n",
       "      <td>7</td>\n",
       "      <td>1</td>\n",
       "      <td>2</td>\n",
       "    </tr>\n",
       "    <tr>\n",
       "      <th>4</th>\n",
       "      <td>1017023</td>\n",
       "      <td>4</td>\n",
       "      <td>1</td>\n",
       "      <td>1</td>\n",
       "      <td>3</td>\n",
       "      <td>2</td>\n",
       "      <td>1</td>\n",
       "      <td>3</td>\n",
       "      <td>1</td>\n",
       "      <td>1</td>\n",
       "      <td>2</td>\n",
       "    </tr>\n",
       "  </tbody>\n",
       "</table>\n",
       "</div>"
      ],
      "text/plain": [
       "   Sample code number  Clump Thickness  Uniformity of Cell Size  \\\n",
       "0             1000025                5                        1   \n",
       "1             1002945                5                        4   \n",
       "2             1015425                3                        1   \n",
       "3             1016277                6                        8   \n",
       "4             1017023                4                        1   \n",
       "\n",
       "   Uniformity of Cell Shape  Marginal Adhesion  Single Epithelial Cell Size  \\\n",
       "0                         1                  1                            2   \n",
       "1                         4                  5                            7   \n",
       "2                         1                  1                            2   \n",
       "3                         8                  1                            3   \n",
       "4                         1                  3                            2   \n",
       "\n",
       "   Bare Nuclei  Bland Chromatin  Normal Nucleoli  Mitoses  Class  \n",
       "0            1                3                1        1      2  \n",
       "1           10                3                2        1      2  \n",
       "2            2                3                1        1      2  \n",
       "3            4                3                7        1      2  \n",
       "4            1                3                1        1      2  "
      ]
     },
     "execution_count": 3,
     "metadata": {},
     "output_type": "execute_result"
    }
   ],
   "source": [
    "BCP = pd.read_csv('BCP.csv')\n",
    "BCP.head()"
   ]
  },
  {
   "cell_type": "code",
   "execution_count": 4,
   "id": "85296de5",
   "metadata": {
    "scrolled": true
   },
   "outputs": [
    {
     "data": {
      "text/html": [
       "<div>\n",
       "<style scoped>\n",
       "    .dataframe tbody tr th:only-of-type {\n",
       "        vertical-align: middle;\n",
       "    }\n",
       "\n",
       "    .dataframe tbody tr th {\n",
       "        vertical-align: top;\n",
       "    }\n",
       "\n",
       "    .dataframe thead th {\n",
       "        text-align: right;\n",
       "    }\n",
       "</style>\n",
       "<table border=\"1\" class=\"dataframe\">\n",
       "  <thead>\n",
       "    <tr style=\"text-align: right;\">\n",
       "      <th></th>\n",
       "      <th>Clump Thickness</th>\n",
       "      <th>Uniformity of Cell Size</th>\n",
       "      <th>Uniformity of Cell Shape</th>\n",
       "      <th>Marginal Adhesion</th>\n",
       "      <th>Single Epithelial Cell Size</th>\n",
       "      <th>Bare Nuclei</th>\n",
       "      <th>Bland Chromatin</th>\n",
       "      <th>Normal Nucleoli</th>\n",
       "      <th>Mitoses</th>\n",
       "      <th>Class</th>\n",
       "    </tr>\n",
       "  </thead>\n",
       "  <tbody>\n",
       "    <tr>\n",
       "      <th>0</th>\n",
       "      <td>5</td>\n",
       "      <td>1</td>\n",
       "      <td>1</td>\n",
       "      <td>1</td>\n",
       "      <td>2</td>\n",
       "      <td>1</td>\n",
       "      <td>3</td>\n",
       "      <td>1</td>\n",
       "      <td>1</td>\n",
       "      <td>2</td>\n",
       "    </tr>\n",
       "    <tr>\n",
       "      <th>1</th>\n",
       "      <td>5</td>\n",
       "      <td>4</td>\n",
       "      <td>4</td>\n",
       "      <td>5</td>\n",
       "      <td>7</td>\n",
       "      <td>10</td>\n",
       "      <td>3</td>\n",
       "      <td>2</td>\n",
       "      <td>1</td>\n",
       "      <td>2</td>\n",
       "    </tr>\n",
       "    <tr>\n",
       "      <th>2</th>\n",
       "      <td>3</td>\n",
       "      <td>1</td>\n",
       "      <td>1</td>\n",
       "      <td>1</td>\n",
       "      <td>2</td>\n",
       "      <td>2</td>\n",
       "      <td>3</td>\n",
       "      <td>1</td>\n",
       "      <td>1</td>\n",
       "      <td>2</td>\n",
       "    </tr>\n",
       "    <tr>\n",
       "      <th>3</th>\n",
       "      <td>6</td>\n",
       "      <td>8</td>\n",
       "      <td>8</td>\n",
       "      <td>1</td>\n",
       "      <td>3</td>\n",
       "      <td>4</td>\n",
       "      <td>3</td>\n",
       "      <td>7</td>\n",
       "      <td>1</td>\n",
       "      <td>2</td>\n",
       "    </tr>\n",
       "    <tr>\n",
       "      <th>4</th>\n",
       "      <td>4</td>\n",
       "      <td>1</td>\n",
       "      <td>1</td>\n",
       "      <td>3</td>\n",
       "      <td>2</td>\n",
       "      <td>1</td>\n",
       "      <td>3</td>\n",
       "      <td>1</td>\n",
       "      <td>1</td>\n",
       "      <td>2</td>\n",
       "    </tr>\n",
       "  </tbody>\n",
       "</table>\n",
       "</div>"
      ],
      "text/plain": [
       "   Clump Thickness  Uniformity of Cell Size  Uniformity of Cell Shape  \\\n",
       "0                5                        1                         1   \n",
       "1                5                        4                         4   \n",
       "2                3                        1                         1   \n",
       "3                6                        8                         8   \n",
       "4                4                        1                         1   \n",
       "\n",
       "   Marginal Adhesion  Single Epithelial Cell Size  Bare Nuclei  \\\n",
       "0                  1                            2            1   \n",
       "1                  5                            7           10   \n",
       "2                  1                            2            2   \n",
       "3                  1                            3            4   \n",
       "4                  3                            2            1   \n",
       "\n",
       "   Bland Chromatin  Normal Nucleoli  Mitoses  Class  \n",
       "0                3                1        1      2  \n",
       "1                3                2        1      2  \n",
       "2                3                1        1      2  \n",
       "3                3                7        1      2  \n",
       "4                3                1        1      2  "
      ]
     },
     "execution_count": 4,
     "metadata": {},
     "output_type": "execute_result"
    }
   ],
   "source": [
    "# Dop the 'Sample code number' colume.\n",
    "BCP = BCP.drop(['Sample code number'], axis=1)\n",
    "BCP.head()"
   ]
  },
  {
   "cell_type": "markdown",
   "id": "13d9056a",
   "metadata": {},
   "source": [
    "###### arrhythmia dataset"
   ]
  },
  {
   "cell_type": "markdown",
   "id": "a8384d48",
   "metadata": {},
   "source": [
    "Load the arrhythmia dataset from csv file. There are some missing value in 'T', 'P', 'QRST', 'J' and  'heartrate' columes. Both of these columes data dosen't have relationship with other columes, so we can use the mean values to fill these missing datas. "
   ]
  },
  {
   "cell_type": "code",
   "execution_count": 5,
   "id": "49b27240",
   "metadata": {},
   "outputs": [
    {
     "data": {
      "text/html": [
       "<div>\n",
       "<style scoped>\n",
       "    .dataframe tbody tr th:only-of-type {\n",
       "        vertical-align: middle;\n",
       "    }\n",
       "\n",
       "    .dataframe tbody tr th {\n",
       "        vertical-align: top;\n",
       "    }\n",
       "\n",
       "    .dataframe thead th {\n",
       "        text-align: right;\n",
       "    }\n",
       "</style>\n",
       "<table border=\"1\" class=\"dataframe\">\n",
       "  <thead>\n",
       "    <tr style=\"text-align: right;\">\n",
       "      <th></th>\n",
       "      <th>age</th>\n",
       "      <th>sex</th>\n",
       "      <th>height</th>\n",
       "      <th>weight</th>\n",
       "      <th>QRSduration</th>\n",
       "      <th>PRinterval</th>\n",
       "      <th>Q-Tinterval</th>\n",
       "      <th>Tinterval</th>\n",
       "      <th>Pinterval</th>\n",
       "      <th>QRS</th>\n",
       "      <th>...</th>\n",
       "      <th>chV6_QwaveAmp</th>\n",
       "      <th>chV6_RwaveAmp</th>\n",
       "      <th>chV6_SwaveAmp</th>\n",
       "      <th>chV6_RPwaveAmp</th>\n",
       "      <th>chV6_SPwaveAmp</th>\n",
       "      <th>chV6_PwaveAmp</th>\n",
       "      <th>chV6_TwaveAmp</th>\n",
       "      <th>chV6_QRSA</th>\n",
       "      <th>chV6_QRSTA</th>\n",
       "      <th>class</th>\n",
       "    </tr>\n",
       "  </thead>\n",
       "  <tbody>\n",
       "    <tr>\n",
       "      <th>0</th>\n",
       "      <td>75</td>\n",
       "      <td>0</td>\n",
       "      <td>190</td>\n",
       "      <td>80</td>\n",
       "      <td>91</td>\n",
       "      <td>193</td>\n",
       "      <td>371</td>\n",
       "      <td>174</td>\n",
       "      <td>121</td>\n",
       "      <td>-16</td>\n",
       "      <td>...</td>\n",
       "      <td>0.0</td>\n",
       "      <td>9.0</td>\n",
       "      <td>-0.9</td>\n",
       "      <td>0.0</td>\n",
       "      <td>0.0</td>\n",
       "      <td>0.9</td>\n",
       "      <td>2.9</td>\n",
       "      <td>23.3</td>\n",
       "      <td>49.4</td>\n",
       "      <td>8</td>\n",
       "    </tr>\n",
       "    <tr>\n",
       "      <th>1</th>\n",
       "      <td>56</td>\n",
       "      <td>1</td>\n",
       "      <td>165</td>\n",
       "      <td>64</td>\n",
       "      <td>81</td>\n",
       "      <td>174</td>\n",
       "      <td>401</td>\n",
       "      <td>149</td>\n",
       "      <td>39</td>\n",
       "      <td>25</td>\n",
       "      <td>...</td>\n",
       "      <td>0.0</td>\n",
       "      <td>8.5</td>\n",
       "      <td>0.0</td>\n",
       "      <td>0.0</td>\n",
       "      <td>0.0</td>\n",
       "      <td>0.2</td>\n",
       "      <td>2.1</td>\n",
       "      <td>20.4</td>\n",
       "      <td>38.8</td>\n",
       "      <td>6</td>\n",
       "    </tr>\n",
       "    <tr>\n",
       "      <th>2</th>\n",
       "      <td>54</td>\n",
       "      <td>0</td>\n",
       "      <td>172</td>\n",
       "      <td>95</td>\n",
       "      <td>138</td>\n",
       "      <td>163</td>\n",
       "      <td>386</td>\n",
       "      <td>185</td>\n",
       "      <td>102</td>\n",
       "      <td>96</td>\n",
       "      <td>...</td>\n",
       "      <td>0.0</td>\n",
       "      <td>9.5</td>\n",
       "      <td>-2.4</td>\n",
       "      <td>0.0</td>\n",
       "      <td>0.0</td>\n",
       "      <td>0.3</td>\n",
       "      <td>3.4</td>\n",
       "      <td>12.3</td>\n",
       "      <td>49.0</td>\n",
       "      <td>10</td>\n",
       "    </tr>\n",
       "    <tr>\n",
       "      <th>3</th>\n",
       "      <td>55</td>\n",
       "      <td>0</td>\n",
       "      <td>175</td>\n",
       "      <td>94</td>\n",
       "      <td>100</td>\n",
       "      <td>202</td>\n",
       "      <td>380</td>\n",
       "      <td>179</td>\n",
       "      <td>143</td>\n",
       "      <td>28</td>\n",
       "      <td>...</td>\n",
       "      <td>0.0</td>\n",
       "      <td>12.2</td>\n",
       "      <td>-2.2</td>\n",
       "      <td>0.0</td>\n",
       "      <td>0.0</td>\n",
       "      <td>0.4</td>\n",
       "      <td>2.6</td>\n",
       "      <td>34.6</td>\n",
       "      <td>61.6</td>\n",
       "      <td>1</td>\n",
       "    </tr>\n",
       "    <tr>\n",
       "      <th>4</th>\n",
       "      <td>75</td>\n",
       "      <td>0</td>\n",
       "      <td>190</td>\n",
       "      <td>80</td>\n",
       "      <td>88</td>\n",
       "      <td>181</td>\n",
       "      <td>360</td>\n",
       "      <td>177</td>\n",
       "      <td>103</td>\n",
       "      <td>-16</td>\n",
       "      <td>...</td>\n",
       "      <td>0.0</td>\n",
       "      <td>13.1</td>\n",
       "      <td>-3.6</td>\n",
       "      <td>0.0</td>\n",
       "      <td>0.0</td>\n",
       "      <td>-0.1</td>\n",
       "      <td>3.9</td>\n",
       "      <td>25.4</td>\n",
       "      <td>62.8</td>\n",
       "      <td>7</td>\n",
       "    </tr>\n",
       "  </tbody>\n",
       "</table>\n",
       "<p>5 rows × 280 columns</p>\n",
       "</div>"
      ],
      "text/plain": [
       "   age   sex   height   weight   QRSduration   PRinterval   Q-Tinterval  \\\n",
       "0   75     0      190       80            91          193           371   \n",
       "1   56     1      165       64            81          174           401   \n",
       "2   54     0      172       95           138          163           386   \n",
       "3   55     0      175       94           100          202           380   \n",
       "4   75     0      190       80            88          181           360   \n",
       "\n",
       "    Tinterval   Pinterval   QRS  ...  chV6_QwaveAmp  chV6_RwaveAmp  \\\n",
       "0         174         121   -16  ...            0.0            9.0   \n",
       "1         149          39    25  ...            0.0            8.5   \n",
       "2         185         102    96  ...            0.0            9.5   \n",
       "3         179         143    28  ...            0.0           12.2   \n",
       "4         177         103   -16  ...            0.0           13.1   \n",
       "\n",
       "   chV6_SwaveAmp  chV6_RPwaveAmp  chV6_SPwaveAmp  chV6_PwaveAmp  \\\n",
       "0           -0.9             0.0             0.0            0.9   \n",
       "1            0.0             0.0             0.0            0.2   \n",
       "2           -2.4             0.0             0.0            0.3   \n",
       "3           -2.2             0.0             0.0            0.4   \n",
       "4           -3.6             0.0             0.0           -0.1   \n",
       "\n",
       "   chV6_TwaveAmp  chV6_QRSA  chV6_QRSTA  class  \n",
       "0            2.9       23.3        49.4      8  \n",
       "1            2.1       20.4        38.8      6  \n",
       "2            3.4       12.3        49.0     10  \n",
       "3            2.6       34.6        61.6      1  \n",
       "4            3.9       25.4        62.8      7  \n",
       "\n",
       "[5 rows x 280 columns]"
      ]
     },
     "execution_count": 5,
     "metadata": {},
     "output_type": "execute_result"
    }
   ],
   "source": [
    "# Replace \"?\" to NaN when loading the csv file. \n",
    "arrhythmia = pd.read_csv('arrhythmia.csv',na_values = '?')\n",
    "arrhythmia.head()"
   ]
  },
  {
   "cell_type": "code",
   "execution_count": 6,
   "id": "68c3aa79",
   "metadata": {},
   "outputs": [
    {
     "data": {
      "text/plain": [
       "age              0\n",
       " sex             0\n",
       " height          0\n",
       " weight          0\n",
       " QRSduration     0\n",
       "                ..\n",
       "chV6_PwaveAmp    0\n",
       "chV6_TwaveAmp    0\n",
       "chV6_QRSA        0\n",
       "chV6_QRSTA       0\n",
       "class            0\n",
       "Length: 280, dtype: int64"
      ]
     },
     "execution_count": 6,
     "metadata": {},
     "output_type": "execute_result"
    }
   ],
   "source": [
    "# Find the colums which have missing datas. \n",
    "arrhythmia.isnull().sum()"
   ]
  },
  {
   "cell_type": "code",
   "execution_count": 7,
   "id": "99876289",
   "metadata": {},
   "outputs": [],
   "source": [
    "# Caculate the mean value of \" T\" colume the replace the data. \n",
    "arrhythmia[\" T\"] = arrhythmia[\" T\"].replace(np.NaN, arrhythmia[' T'].mean(axis=0))\n",
    "# Caculate the mean value of \" P\" colume the replace the data. \n",
    "arrhythmia[\" P\"] = arrhythmia[\" P\"].replace(np.NaN, arrhythmia[' P'].mean(axis=0))\n",
    "# Caculate the mean value of \" QRST\" colume the replace the data. \n",
    "arrhythmia[\" QRST\"] = arrhythmia[\" QRST\"].replace(np.NaN, arrhythmia[' QRST'].mean(axis=0))\n",
    "# Caculate the mean value of \" heartrate\" colume the replace the data. \n",
    "arrhythmia[\" heartrate\"] = arrhythmia[\" heartrate\"].replace(np.NaN, arrhythmia[' heartrate'].mean(axis=0))\n",
    "# Caculate the mean value of \" J\" colume the replace the data. \n",
    "arrhythmia[\" J\"] = arrhythmia[\" J\"].replace(np.NaN, arrhythmia[' J'].mean(axis=0))"
   ]
  },
  {
   "cell_type": "markdown",
   "id": "67c79351",
   "metadata": {},
   "source": [
    "### Task2"
   ]
  },
  {
   "cell_type": "markdown",
   "id": "9768c200",
   "metadata": {},
   "source": [
    "###### website-phishing dataset\n",
    "\n",
    "Spliting the dataset to X set and Y set, randomly pick up 80% datas frome dataset as trainging datas and others 20% as test datas. "
   ]
  },
  {
   "cell_type": "markdown",
   "id": "e0f04eac",
   "metadata": {},
   "source": [
    "Decision stump:"
   ]
  },
  {
   "cell_type": "code",
   "execution_count": 8,
   "id": "d4bba64e",
   "metadata": {},
   "outputs": [
    {
     "name": "stdout",
     "output_type": "stream",
     "text": [
      "(11055, 30) (11055,)\n"
     ]
    }
   ],
   "source": [
    "# Split data\n",
    "wp_y = website_phishing['  Class ']\n",
    "wp_x = website_phishing.drop(['  Class '], axis=1).to_numpy()\n",
    "print(wp_x.shape, wp_y.shape)"
   ]
  },
  {
   "cell_type": "code",
   "execution_count": 9,
   "id": "82eaa9e1",
   "metadata": {},
   "outputs": [
    {
     "data": {
      "text/plain": [
       "DecisionTreeClassifier(max_depth=1, random_state=1234)"
      ]
     },
     "execution_count": 9,
     "metadata": {},
     "output_type": "execute_result"
    }
   ],
   "source": [
    "wp_stump = DecisionTreeClassifier(random_state=1234, max_depth=1)\n",
    "wp_stump.fit(wp_x, wp_y)"
   ]
  },
  {
   "cell_type": "code",
   "execution_count": 10,
   "id": "f632f647",
   "metadata": {},
   "outputs": [
    {
     "name": "stdout",
     "output_type": "stream",
     "text": [
      "Accuracy on datasets: 88.89%\n"
     ]
    }
   ],
   "source": [
    "score = wp_stump.score(wp_x, wp_y)\n",
    "print('Accuracy on datasets: {:.2f}%'.format(score * 100))"
   ]
  },
  {
   "cell_type": "markdown",
   "id": "01b37d6d",
   "metadata": {},
   "source": [
    "Decision tree:"
   ]
  },
  {
   "cell_type": "code",
   "execution_count": 11,
   "id": "5778566d",
   "metadata": {},
   "outputs": [
    {
     "name": "stdout",
     "output_type": "stream",
     "text": [
      "(8844, 30) (2211, 30)\n"
     ]
    }
   ],
   "source": [
    "wp_x_train, wp_x_test, wp_y_train, wp_y_test = train_test_split(wp_x, wp_y, test_size=0.2, random_state=1234)\n",
    "print(wp_x_train.shape, wp_x_test.shape)\n"
   ]
  },
  {
   "cell_type": "code",
   "execution_count": 12,
   "id": "6feb67ed",
   "metadata": {},
   "outputs": [
    {
     "data": {
      "text/plain": [
       "DecisionTreeClassifier(random_state=1234)"
      ]
     },
     "execution_count": 12,
     "metadata": {},
     "output_type": "execute_result"
    }
   ],
   "source": [
    "wp_model = DecisionTreeClassifier(random_state=1234)\n",
    "wp_model.fit(wp_x_train, wp_y_train)"
   ]
  },
  {
   "cell_type": "code",
   "execution_count": 13,
   "id": "37b6b767",
   "metadata": {},
   "outputs": [
    {
     "name": "stdout",
     "output_type": "stream",
     "text": [
      "Accuracy on train set: 98.97%\n",
      "Accuracy on test set: 96.34%\n"
     ]
    }
   ],
   "source": [
    "score = wp_model.score(wp_x_train, wp_y_train)\n",
    "print('Accuracy on train set: {:.2f}%'.format(score * 100))\n",
    "\n",
    "score = wp_model.score(wp_x_test, wp_y_test)\n",
    "print('Accuracy on test set: {:.2f}%'.format(score * 100))"
   ]
  },
  {
   "cell_type": "markdown",
   "id": "cf768b65",
   "metadata": {},
   "source": [
    "Pruned decision tree:\n",
    "Used the pre-pruning techniques as pruning strategy to obtain the pruned decision tree.Pre-pruning techniques is set some hyperparameters when build the decision tree. In the following code,I use pre-pruning with max depth method."
   ]
  },
  {
   "cell_type": "code",
   "execution_count": 14,
   "id": "6543d7c7",
   "metadata": {},
   "outputs": [
    {
     "data": {
      "text/plain": [
       "DecisionTreeClassifier(max_depth=14, random_state=1234)"
      ]
     },
     "execution_count": 14,
     "metadata": {},
     "output_type": "execute_result"
    }
   ],
   "source": [
    "wp_model_after = DecisionTreeClassifier(random_state=1234, max_depth = 14)\n",
    "wp_model_after.fit(wp_x_train, wp_y_train)"
   ]
  },
  {
   "cell_type": "code",
   "execution_count": 15,
   "id": "e68f705d",
   "metadata": {},
   "outputs": [
    {
     "name": "stdout",
     "output_type": "stream",
     "text": [
      "Accuracy on train set: 97.92%\n",
      "Accuracy on test set: 96.02%\n"
     ]
    }
   ],
   "source": [
    "score = wp_model_after.score(wp_x_train, wp_y_train)\n",
    "print('Accuracy on train set: {:.2f}%'.format(score * 100))\n",
    "\n",
    "score = wp_model_after.score(wp_x_test, wp_y_test)\n",
    "print('Accuracy on test set: {:.2f}%'.format(score * 100))"
   ]
  },
  {
   "cell_type": "markdown",
   "id": "11df7927",
   "metadata": {},
   "source": [
    "###### BCP dataset"
   ]
  },
  {
   "cell_type": "markdown",
   "id": "a084de63",
   "metadata": {},
   "source": [
    "Decision Stump:"
   ]
  },
  {
   "cell_type": "code",
   "execution_count": 16,
   "id": "136c5bb3",
   "metadata": {},
   "outputs": [
    {
     "name": "stdout",
     "output_type": "stream",
     "text": [
      "(683, 9) (683,)\n"
     ]
    }
   ],
   "source": [
    "# Split data\n",
    "bcp_y = BCP['Class']\n",
    "bcp_x = BCP.drop(['Class'], axis=1).to_numpy()\n",
    "print(bcp_x.shape, bcp_y.shape)"
   ]
  },
  {
   "cell_type": "code",
   "execution_count": 17,
   "id": "50aa24d7",
   "metadata": {},
   "outputs": [
    {
     "data": {
      "text/plain": [
       "DecisionTreeClassifier(max_depth=1, random_state=1234)"
      ]
     },
     "execution_count": 17,
     "metadata": {},
     "output_type": "execute_result"
    }
   ],
   "source": [
    "bcp_stump = DecisionTreeClassifier(random_state=1234, max_depth=1)\n",
    "bcp_stump.fit(bcp_x, bcp_y)"
   ]
  },
  {
   "cell_type": "code",
   "execution_count": 18,
   "id": "f8b2f164",
   "metadata": {},
   "outputs": [
    {
     "name": "stdout",
     "output_type": "stream",
     "text": [
      "Accuracy on datasets: 92.68%\n"
     ]
    }
   ],
   "source": [
    "score = bcp_stump.score(bcp_x, bcp_y)\n",
    "print('Accuracy on datasets: {:.2f}%'.format(score * 100))"
   ]
  },
  {
   "cell_type": "markdown",
   "id": "b224b133",
   "metadata": {},
   "source": [
    "Decision Tree: "
   ]
  },
  {
   "cell_type": "code",
   "execution_count": 19,
   "id": "59cad4f7",
   "metadata": {},
   "outputs": [
    {
     "name": "stdout",
     "output_type": "stream",
     "text": [
      "(546, 9) (137, 9)\n"
     ]
    }
   ],
   "source": [
    "bcp_x_train, bcp_x_test, bcp_y_train, bcp_y_test = train_test_split(bcp_x, bcp_y, test_size=0.2, random_state=1234)\n",
    "print(bcp_x_train.shape, bcp_x_test.shape)"
   ]
  },
  {
   "cell_type": "code",
   "execution_count": 20,
   "id": "6c3fcdbd",
   "metadata": {},
   "outputs": [
    {
     "data": {
      "text/plain": [
       "DecisionTreeClassifier(random_state=1234)"
      ]
     },
     "execution_count": 20,
     "metadata": {},
     "output_type": "execute_result"
    }
   ],
   "source": [
    "bcp_model = DecisionTreeClassifier(random_state=1234)\n",
    "bcp_model.fit(bcp_x_train, bcp_y_train)"
   ]
  },
  {
   "cell_type": "code",
   "execution_count": 21,
   "id": "e289dcd1",
   "metadata": {},
   "outputs": [
    {
     "name": "stdout",
     "output_type": "stream",
     "text": [
      "Accuracy on train set: 100.00%\n",
      "Accuracy on test set: 94.89%\n"
     ]
    }
   ],
   "source": [
    "score = bcp_model.score(bcp_x_train, bcp_y_train)\n",
    "print('Accuracy on train set: {:.2f}%'.format(score * 100))\n",
    "\n",
    "score = bcp_model.score(bcp_x_test, bcp_y_test)\n",
    "print('Accuracy on test set: {:.2f}%'.format(score * 100))"
   ]
  },
  {
   "cell_type": "markdown",
   "id": "4a975fa3",
   "metadata": {},
   "source": [
    "Pruned decision tree:\n",
    "Used the pre-pruning techniques as pruning strategy to obtain the pruned decision tree. Limited the number of depth to 3 could get the higher Accuracy on test set. When the max_depth greater or smaller than 3, the accuracy on test will decrease. "
   ]
  },
  {
   "cell_type": "code",
   "execution_count": 22,
   "id": "9b5c382b",
   "metadata": {},
   "outputs": [
    {
     "data": {
      "text/plain": [
       "DecisionTreeClassifier(max_depth=3, random_state=1234)"
      ]
     },
     "execution_count": 22,
     "metadata": {},
     "output_type": "execute_result"
    }
   ],
   "source": [
    "bcp_model_after = DecisionTreeClassifier(random_state=1234, max_depth = 3)\n",
    "bcp_model_after.fit(bcp_x_train, bcp_y_train)"
   ]
  },
  {
   "cell_type": "code",
   "execution_count": 23,
   "id": "6514f168",
   "metadata": {},
   "outputs": [
    {
     "name": "stdout",
     "output_type": "stream",
     "text": [
      "Accuracy on train set: 96.52%\n",
      "Accuracy on test set: 95.62%\n"
     ]
    }
   ],
   "source": [
    "score = bcp_model_after.score(bcp_x_train, bcp_y_train)\n",
    "print('Accuracy on train set: {:.2f}%'.format(score * 100))\n",
    "\n",
    "score = bcp_model_after.score(bcp_x_test, bcp_y_test)\n",
    "print('Accuracy on test set: {:.2f}%'.format(score * 100))"
   ]
  },
  {
   "cell_type": "markdown",
   "id": "17b6a0a3",
   "metadata": {},
   "source": [
    "###### arrhythmia dataset"
   ]
  },
  {
   "cell_type": "markdown",
   "id": "b417408c",
   "metadata": {},
   "source": [
    "Decision Stump: "
   ]
  },
  {
   "cell_type": "code",
   "execution_count": 24,
   "id": "3d5ddba2",
   "metadata": {},
   "outputs": [
    {
     "name": "stdout",
     "output_type": "stream",
     "text": [
      "(452, 279) (452,)\n"
     ]
    }
   ],
   "source": [
    "# Split data\n",
    "arrhythmia_y = arrhythmia['class']\n",
    "arrhythmia_x = arrhythmia.drop(['class'], axis=1).to_numpy()\n",
    "print(arrhythmia_x.shape, arrhythmia_y.shape)"
   ]
  },
  {
   "cell_type": "code",
   "execution_count": 25,
   "id": "7e2bfb69",
   "metadata": {},
   "outputs": [
    {
     "data": {
      "text/plain": [
       "DecisionTreeClassifier(max_depth=1, random_state=1234)"
      ]
     },
     "execution_count": 25,
     "metadata": {},
     "output_type": "execute_result"
    }
   ],
   "source": [
    "arrhythmia_stump = DecisionTreeClassifier(random_state=1234, max_depth=1)\n",
    "arrhythmia_stump.fit(arrhythmia_x, arrhythmia_y)"
   ]
  },
  {
   "cell_type": "code",
   "execution_count": 26,
   "id": "5c4bc11b",
   "metadata": {},
   "outputs": [
    {
     "name": "stdout",
     "output_type": "stream",
     "text": [
      "Accuracy on datasets: 60.40%\n"
     ]
    }
   ],
   "source": [
    "score = arrhythmia_stump.score(arrhythmia_x, arrhythmia_y)\n",
    "print('Accuracy on datasets: {:.2f}%'.format(score * 100))"
   ]
  },
  {
   "cell_type": "markdown",
   "id": "9fd40eb8",
   "metadata": {},
   "source": [
    "Decision Tree: "
   ]
  },
  {
   "cell_type": "code",
   "execution_count": 27,
   "id": "53244695",
   "metadata": {},
   "outputs": [
    {
     "name": "stdout",
     "output_type": "stream",
     "text": [
      "(361, 279) (91, 279)\n"
     ]
    }
   ],
   "source": [
    "arrhythmia_x_train, arrhythmia_x_test, arrhythmia_y_train, arrhythmia_y_test = train_test_split(arrhythmia_x, arrhythmia_y, test_size=0.2, random_state=1234)\n",
    "print(arrhythmia_x_train.shape, arrhythmia_x_test.shape)"
   ]
  },
  {
   "cell_type": "code",
   "execution_count": 28,
   "id": "a65e1800",
   "metadata": {},
   "outputs": [
    {
     "data": {
      "text/plain": [
       "DecisionTreeClassifier(random_state=1234)"
      ]
     },
     "execution_count": 28,
     "metadata": {},
     "output_type": "execute_result"
    }
   ],
   "source": [
    "arrhythmia_model = DecisionTreeClassifier(random_state=1234)\n",
    "arrhythmia_model.fit(arrhythmia_x_train, arrhythmia_y_train)"
   ]
  },
  {
   "cell_type": "code",
   "execution_count": 29,
   "id": "68ee38f9",
   "metadata": {},
   "outputs": [
    {
     "name": "stdout",
     "output_type": "stream",
     "text": [
      "Accuracy on train set: 100.00%\n",
      "Accuracy on test set: 60.44%\n"
     ]
    }
   ],
   "source": [
    "score = arrhythmia_model.score(arrhythmia_x_train, arrhythmia_y_train)\n",
    "print('Accuracy on train set: {:.2f}%'.format(score * 100))\n",
    "\n",
    "score = arrhythmia_model.score(arrhythmia_x_test, arrhythmia_y_test)\n",
    "print('Accuracy on test set: {:.2f}%'.format(score * 100))"
   ]
  },
  {
   "cell_type": "markdown",
   "id": "ac220501",
   "metadata": {},
   "source": [
    "Pruned decision tree:\n",
    "Used the pre-pruning techniques as pruning strategy to obtain the pruned decision tree. Change the max_depth could solve the overfit problem. Limited the number of depths to 3 could get the same accuracy on test set and reduce the overfit problem. "
   ]
  },
  {
   "cell_type": "code",
   "execution_count": 30,
   "id": "d69707ea",
   "metadata": {},
   "outputs": [
    {
     "data": {
      "text/plain": [
       "DecisionTreeClassifier(max_depth=3, random_state=1234)"
      ]
     },
     "execution_count": 30,
     "metadata": {},
     "output_type": "execute_result"
    }
   ],
   "source": [
    "arrhythmia_model_after = DecisionTreeClassifier(random_state=1234, max_depth = 3)\n",
    "arrhythmia_model_after.fit(arrhythmia_x_train, arrhythmia_y_train)"
   ]
  },
  {
   "cell_type": "code",
   "execution_count": 31,
   "id": "656b98c0",
   "metadata": {},
   "outputs": [
    {
     "name": "stdout",
     "output_type": "stream",
     "text": [
      "Accuracy on train set: 73.41%\n",
      "Accuracy on test set: 60.44%\n"
     ]
    }
   ],
   "source": [
    "score = arrhythmia_model_after.score(arrhythmia_x_train, arrhythmia_y_train)\n",
    "print('Accuracy on train set: {:.2f}%'.format(score * 100))\n",
    "\n",
    "score = arrhythmia_model_after.score(arrhythmia_x_test, arrhythmia_y_test)\n",
    "print('Accuracy on test set: {:.2f}%'.format(score * 100))"
   ]
  },
  {
   "cell_type": "markdown",
   "id": "3d7bf44f",
   "metadata": {},
   "source": [
    "### Task3"
   ]
  },
  {
   "cell_type": "markdown",
   "id": "693825c1",
   "metadata": {},
   "source": [
    "For select the hyperparameters correctly, we need the GridSearchCV from sklearn package for giving the best hyperparameter which gives the best score from set of hyperparameters. In the following code, I find the depth of each decision tree for each dataset, the put all the possiable value as varibles in GridSearchCV function and use the best params as hyperparameters to create the decision trees. "
   ]
  },
  {
   "cell_type": "markdown",
   "id": "39c5ea4f",
   "metadata": {},
   "source": [
    "###### website-phishing dataset"
   ]
  },
  {
   "cell_type": "code",
   "execution_count": 32,
   "id": "a82293c5",
   "metadata": {},
   "outputs": [
    {
     "name": "stdout",
     "output_type": "stream",
     "text": [
      "21\n",
      "{'max_depth': 20}\n"
     ]
    }
   ],
   "source": [
    "print(wp_model.get_depth())\n",
    "param_dict = {\"max_depth\":range(2,21,1)}\n",
    "wp_search = GridSearchCV(wp_model, param_dict, cv = 5)\n",
    "wp_search.fit(wp_x_train, wp_y_train)\n",
    "print(wp_search.best_params_)"
   ]
  },
  {
   "cell_type": "code",
   "execution_count": 33,
   "id": "6bcc6ed4",
   "metadata": {},
   "outputs": [
    {
     "data": {
      "text/plain": [
       "DecisionTreeClassifier(max_depth=20, random_state=1234)"
      ]
     },
     "execution_count": 33,
     "metadata": {},
     "output_type": "execute_result"
    }
   ],
   "source": [
    "wp_model_search = DecisionTreeClassifier(random_state=1234, max_depth = 20)\n",
    "wp_model_search.fit(wp_x_train, wp_y_train)"
   ]
  },
  {
   "cell_type": "code",
   "execution_count": 34,
   "id": "9a309ee6",
   "metadata": {},
   "outputs": [
    {
     "name": "stdout",
     "output_type": "stream",
     "text": [
      "Accuracy on train set: 98.96%\n",
      "Accuracy on test set: 96.16%\n"
     ]
    }
   ],
   "source": [
    "score = wp_model_search.score(wp_x_train, wp_y_train)\n",
    "print('Accuracy on train set: {:.2f}%'.format(score * 100))\n",
    "\n",
    "score = wp_model_search.score(wp_x_test, wp_y_test)\n",
    "print('Accuracy on test set: {:.2f}%'.format(score * 100))"
   ]
  },
  {
   "cell_type": "markdown",
   "id": "a82231ca",
   "metadata": {},
   "source": [
    "###### BCP dataset"
   ]
  },
  {
   "cell_type": "code",
   "execution_count": 35,
   "id": "ec09c5c9",
   "metadata": {},
   "outputs": [
    {
     "name": "stdout",
     "output_type": "stream",
     "text": [
      "9\n"
     ]
    }
   ],
   "source": [
    "print(bcp_model.get_depth())"
   ]
  },
  {
   "cell_type": "code",
   "execution_count": 36,
   "id": "1b4c2cee",
   "metadata": {},
   "outputs": [
    {
     "name": "stdout",
     "output_type": "stream",
     "text": [
      "{'max_depth': 4}\n"
     ]
    }
   ],
   "source": [
    "param_dict = {\"max_depth\":range(2,9,1)}\n",
    "bcp_search = GridSearchCV(bcp_model, param_dict, cv = 5)\n",
    "bcp_search.fit(bcp_x_train, bcp_y_train)\n",
    "print(bcp_search.best_params_)"
   ]
  },
  {
   "cell_type": "code",
   "execution_count": 37,
   "id": "f640e582",
   "metadata": {},
   "outputs": [
    {
     "data": {
      "text/plain": [
       "DecisionTreeClassifier(max_depth=4, random_state=1234)"
      ]
     },
     "execution_count": 37,
     "metadata": {},
     "output_type": "execute_result"
    }
   ],
   "source": [
    "bcp_model_search = DecisionTreeClassifier(random_state=1234, max_depth = 4)\n",
    "bcp_model_search.fit(bcp_x_train, bcp_y_train)"
   ]
  },
  {
   "cell_type": "code",
   "execution_count": 38,
   "id": "f5b98829",
   "metadata": {},
   "outputs": [
    {
     "name": "stdout",
     "output_type": "stream",
     "text": [
      "Accuracy on train set: 97.99%\n",
      "Accuracy on test set: 93.43%\n"
     ]
    }
   ],
   "source": [
    "score = bcp_model_search.score(bcp_x_train, bcp_y_train)\n",
    "print('Accuracy on train set: {:.2f}%'.format(score * 100))\n",
    "\n",
    "score = bcp_model_search.score(bcp_x_test, bcp_y_test)\n",
    "print('Accuracy on test set: {:.2f}%'.format(score * 100))"
   ]
  },
  {
   "cell_type": "markdown",
   "id": "7d373f6f",
   "metadata": {},
   "source": [
    "###### arrhythmia dataset"
   ]
  },
  {
   "cell_type": "code",
   "execution_count": 39,
   "id": "696791f9",
   "metadata": {},
   "outputs": [
    {
     "name": "stdout",
     "output_type": "stream",
     "text": [
      "21\n"
     ]
    }
   ],
   "source": [
    "print(arrhythmia_model.get_depth())"
   ]
  },
  {
   "cell_type": "code",
   "execution_count": 40,
   "id": "63dcb3ba",
   "metadata": {},
   "outputs": [
    {
     "name": "stderr",
     "output_type": "stream",
     "text": [
      "C:\\Users\\zhaog\\anaconda3\\envs\\venv\\lib\\site-packages\\sklearn\\model_selection\\_split.py:676: UserWarning: The least populated class in y has only 2 members, which is less than n_splits=5.\n",
      "  warnings.warn(\n"
     ]
    },
    {
     "name": "stdout",
     "output_type": "stream",
     "text": [
      "{'max_depth': 6}\n"
     ]
    }
   ],
   "source": [
    "param_dict = {\"max_depth\":range(2,21,1)}\n",
    "arrhythmia_search = GridSearchCV(arrhythmia_model, param_dict, cv = 5)\n",
    "arrhythmia_search.fit(arrhythmia_x_train, arrhythmia_y_train)\n",
    "print(arrhythmia_search.best_params_)"
   ]
  },
  {
   "cell_type": "code",
   "execution_count": 41,
   "id": "6ba97413",
   "metadata": {},
   "outputs": [
    {
     "data": {
      "text/plain": [
       "DecisionTreeClassifier(max_depth=6, random_state=1234)"
      ]
     },
     "execution_count": 41,
     "metadata": {},
     "output_type": "execute_result"
    }
   ],
   "source": [
    "arrhythmia_model_search = DecisionTreeClassifier(random_state=1234, max_depth = 6)\n",
    "arrhythmia_model_search.fit(arrhythmia_x_train, arrhythmia_y_train)"
   ]
  },
  {
   "cell_type": "code",
   "execution_count": 42,
   "id": "6a8dc8e0",
   "metadata": {},
   "outputs": [
    {
     "name": "stdout",
     "output_type": "stream",
     "text": [
      "Accuracy on train set: 88.64%\n",
      "Accuracy on test set: 67.03%\n"
     ]
    }
   ],
   "source": [
    "score = arrhythmia_model_search.score(arrhythmia_x_train, arrhythmia_y_train)\n",
    "print('Accuracy on train set: {:.2f}%'.format(score * 100))\n",
    "\n",
    "score = arrhythmia_model_search.score(arrhythmia_x_test, arrhythmia_y_test)\n",
    "print('Accuracy on test set: {:.2f}%'.format(score * 100))"
   ]
  },
  {
   "cell_type": "markdown",
   "id": "fe7ac7fc",
   "metadata": {},
   "source": [
    "### Task4"
   ]
  },
  {
   "cell_type": "markdown",
   "id": "425997bb",
   "metadata": {},
   "source": [
    "###### website-phishing dataset"
   ]
  },
  {
   "cell_type": "markdown",
   "id": "f2f64b9c",
   "metadata": {},
   "source": [
    "In this task, used paired_ttest_kfold_cv method from mlxtend package to the K-fold cross-validated paired t test, this method could split and iteration 10 times during the cross-validation procedure. "
   ]
  },
  {
   "cell_type": "markdown",
   "id": "29f67ed6",
   "metadata": {},
   "source": [
    "Compare decision stump and unpruned decision tree"
   ]
  },
  {
   "cell_type": "markdown",
   "id": "683e419e",
   "metadata": {},
   "source": [
    "Null hypothesis (H0) = Error rates of website-phishing decision stump & unpruned decision tree are the same"
   ]
  },
  {
   "cell_type": "code",
   "execution_count": 43,
   "id": "02f7f563",
   "metadata": {},
   "outputs": [
    {
     "name": "stdout",
     "output_type": "stream",
     "text": [
      "t statistic: -8.560\n",
      "p value: 0.000\n",
      "Accuracy on decision stump test set: 88.60%\n",
      "Accuracy on unpruned decision tree test set: 98.55%\n"
     ]
    }
   ],
   "source": [
    "t, p = paired_ttest_kfold_cv(estimator1=wp_stump,\n",
    "                              estimator2=wp_model,\n",
    "                              X=wp_x, y=wp_y,\n",
    "                              random_seed=1234)\n",
    "print('t statistic: %.3f' % t)\n",
    "print('p value: %.3f' % p)\n",
    "\n",
    "score = wp_stump.score(wp_x_test, wp_y_test)\n",
    "print('Accuracy on decision stump test set: {:.2f}%'.format(score * 100))\n",
    "score = wp_model.score(wp_x_test, wp_y_test)\n",
    "print('Accuracy on unpruned decision tree test set: {:.2f}%'.format(score * 100))"
   ]
  },
  {
   "cell_type": "markdown",
   "id": "7e956c9e",
   "metadata": {},
   "source": [
    "Because p value is 0, which is less than 0.05, that's means the website-phishing decision stump and unpruned decision tree having the same error rates is less than 5%. So there is evidence support that there is statistically difference between website-phishing decision stump and unpruned decision tree. The error rate of unpruned decision tree is less than decision stump, so in that case the decision stump is worse than unpruned decision tree."
   ]
  },
  {
   "cell_type": "markdown",
   "id": "dfc4bb5d",
   "metadata": {},
   "source": [
    "Compare decision stump and pruned decision tree"
   ]
  },
  {
   "cell_type": "markdown",
   "id": "a95c3187",
   "metadata": {},
   "source": [
    "Null hypothesis (H0) = Error rates of website-phishing decision stump and pruned decision tree are the same"
   ]
  },
  {
   "cell_type": "code",
   "execution_count": 44,
   "id": "470d7694",
   "metadata": {},
   "outputs": [
    {
     "name": "stdout",
     "output_type": "stream",
     "text": [
      "t statistic: -9.104\n",
      "p value: 0.000\n",
      "Accuracy on decision stump test set: 88.60%\n",
      "Accuracy on pruned decision tree test set: 98.51%\n"
     ]
    }
   ],
   "source": [
    "t, p = paired_ttest_kfold_cv(estimator1=wp_stump,\n",
    "                              estimator2=wp_model_search,\n",
    "                              X=wp_x, y=wp_y,\n",
    "                              random_seed=1234)\n",
    "print('t statistic: %.3f' % t)\n",
    "print('p value: %.3f' % p)\n",
    "\n",
    "score = wp_stump.score(wp_x_test, wp_y_test)\n",
    "print('Accuracy on decision stump test set: {:.2f}%'.format(score * 100))\n",
    "score = wp_model_search.score(wp_x_test, wp_y_test)\n",
    "print('Accuracy on pruned decision tree test set: {:.2f}%'.format(score * 100))"
   ]
  },
  {
   "cell_type": "markdown",
   "id": "3e5a4b54",
   "metadata": {},
   "source": [
    "Because p value is 0, which is less than 0.05, that's means the website-phishing decision stump and pruned decision tree having the same error rates is less than 5%. So there is evidence support that there is statistically difference between website-phishing decision stump and pruned decision tree. The error rate of pruned decision tree is less than decision stump, so in that case the decision stump is worse than pruned decision tree."
   ]
  },
  {
   "cell_type": "markdown",
   "id": "15cacc57",
   "metadata": {},
   "source": [
    "Compare unpruned decision tree and pruned decision tree"
   ]
  },
  {
   "cell_type": "markdown",
   "id": "ff74f31d",
   "metadata": {},
   "source": [
    "Null hypothesis (H0) = Error rates of website-phishing unpruned decision tree and pruned decision tree are the same"
   ]
  },
  {
   "cell_type": "code",
   "execution_count": 45,
   "id": "9453cb4b",
   "metadata": {},
   "outputs": [
    {
     "name": "stdout",
     "output_type": "stream",
     "text": [
      "t statistic: -1.475\n",
      "p value: 0.174\n"
     ]
    }
   ],
   "source": [
    "t, p = paired_ttest_kfold_cv(estimator1=wp_model,\n",
    "                              estimator2=wp_model_search,\n",
    "                              X=wp_x, y=wp_y,\n",
    "                              random_seed=1234)\n",
    "print('t statistic: %.3f' % t)\n",
    "print('p value: %.3f' % p)"
   ]
  },
  {
   "cell_type": "markdown",
   "id": "c15d6c6c",
   "metadata": {},
   "source": [
    "Because p value is 0.174, which is greater than 0.05, that's means the error rates of website-phishing unpruned decision tree and pruned decision tree are the same. There is no evidence support that there is statistically difference between website-phishing unpruned decision tree and pruned decision tree. "
   ]
  },
  {
   "cell_type": "markdown",
   "id": "e2718fde",
   "metadata": {},
   "source": [
    "###### BCP dataset"
   ]
  },
  {
   "cell_type": "markdown",
   "id": "65c2be9e",
   "metadata": {},
   "source": [
    "Compare BCP decision stump and BCP unpruned decision tree:"
   ]
  },
  {
   "cell_type": "markdown",
   "id": "9db6fde0",
   "metadata": {},
   "source": [
    "Null hypothesis (H0) = Error rates of BCP decision stump & unpruned decision tree are the same"
   ]
  },
  {
   "cell_type": "code",
   "execution_count": 46,
   "id": "808a9905",
   "metadata": {},
   "outputs": [
    {
     "name": "stdout",
     "output_type": "stream",
     "text": [
      "t statistic: -2.047\n",
      "p value: 0.071\n"
     ]
    }
   ],
   "source": [
    "t, p = paired_ttest_kfold_cv(estimator1=bcp_stump,\n",
    "                              estimator2=bcp_model,\n",
    "                              X=bcp_x, y=bcp_y,\n",
    "                              random_seed=1234)\n",
    "print('t statistic: %.3f' % t)\n",
    "print('p value: %.3f' % p)"
   ]
  },
  {
   "cell_type": "markdown",
   "id": "b8962a81",
   "metadata": {},
   "source": [
    "Because p value is 0.071, which is greater than 0.05, that's means the error rates of BCP decision stump and unpruned decision tree are the same. There is no evidence support that there is statistically difference between BCP decision stump and unpruned decision tree. "
   ]
  },
  {
   "cell_type": "markdown",
   "id": "f7d47a3a",
   "metadata": {},
   "source": [
    "Compare decision stump and pruned decision tree "
   ]
  },
  {
   "cell_type": "markdown",
   "id": "981c8fd2",
   "metadata": {},
   "source": [
    "Null hypothesis (H0) = Error rates of BCP decision stump & pruned decision tree are the same"
   ]
  },
  {
   "cell_type": "code",
   "execution_count": 47,
   "id": "dd6d9f62",
   "metadata": {},
   "outputs": [
    {
     "name": "stdout",
     "output_type": "stream",
     "text": [
      "t statistic: -3.089\n",
      "p value: 0.013\n",
      "Accuracy on decision stump test set: 91.24%\n",
      "Accuracy on pruned decision tree test set: 97.81%\n"
     ]
    }
   ],
   "source": [
    "t, p = paired_ttest_kfold_cv(estimator1=bcp_stump,\n",
    "                              estimator2=bcp_model_search,\n",
    "                              X=bcp_x, y=bcp_y,\n",
    "                              random_seed=1234)\n",
    "print('t statistic: %.3f' % t)\n",
    "print('p value: %.3f' % p)\n",
    "\n",
    "score = bcp_stump.score(bcp_x_test, bcp_y_test)\n",
    "print('Accuracy on decision stump test set: {:.2f}%'.format(score * 100))\n",
    "score = bcp_model_search.score(bcp_x_test, bcp_y_test)\n",
    "print('Accuracy on pruned decision tree test set: {:.2f}%'.format(score * 100))"
   ]
  },
  {
   "cell_type": "markdown",
   "id": "334e2653",
   "metadata": {},
   "source": [
    "Because p value is 0.013, which is less than 0.05, that's means the BCP decision stump and pruned decision tree having the same error rates is less than 5%. So there is evidence support that there is statistically difference between BCP decision stump and pruned decision tree. The error rate of pruned decision tree is less than decision stump, so in that case the decision stump is worse than pruned decision tree."
   ]
  },
  {
   "cell_type": "markdown",
   "id": "7ed6c290",
   "metadata": {},
   "source": [
    "Compare unpruned decision tree and pruned decision tree"
   ]
  },
  {
   "cell_type": "markdown",
   "id": "66991c89",
   "metadata": {},
   "source": [
    "Null hypothesis (H0) = Error rates of BCP unpruned decision tree & pruned decision tree are the same"
   ]
  },
  {
   "cell_type": "code",
   "execution_count": 48,
   "id": "c9d80b45",
   "metadata": {},
   "outputs": [
    {
     "name": "stdout",
     "output_type": "stream",
     "text": [
      "t statistic: -1.773\n",
      "p value: 0.110\n"
     ]
    }
   ],
   "source": [
    "t, p = paired_ttest_kfold_cv(estimator1=bcp_model,\n",
    "                              estimator2=bcp_model_search,\n",
    "                              X=bcp_x, y=bcp_y,\n",
    "                              random_seed=1234)\n",
    "print('t statistic: %.3f' % t)\n",
    "print('p value: %.3f' % p)"
   ]
  },
  {
   "cell_type": "markdown",
   "id": "ad372d83",
   "metadata": {},
   "source": [
    "Because p value is 0.110, which is greater than 0.05, that's means the error rates of BCP unpruned decision tree and pruned decision tree are the same. There is no evidence support that there is statistically difference between BCP unpruned decision tree and pruned decision tree. "
   ]
  },
  {
   "cell_type": "markdown",
   "id": "eb92e3bc",
   "metadata": {},
   "source": [
    "###### arrhythmia dataset"
   ]
  },
  {
   "cell_type": "markdown",
   "id": "f543213b",
   "metadata": {},
   "source": [
    "Compare decision stump and unpruned decision tree"
   ]
  },
  {
   "cell_type": "markdown",
   "id": "eb2023b7",
   "metadata": {},
   "source": [
    "Null hypothesis (H0) = Error rates of arrhythmia decision stump and unpruned decision tree are the same"
   ]
  },
  {
   "cell_type": "code",
   "execution_count": 49,
   "id": "df4b6b79",
   "metadata": {},
   "outputs": [
    {
     "name": "stdout",
     "output_type": "stream",
     "text": [
      "t statistic: -1.651\n",
      "p value: 0.133\n"
     ]
    }
   ],
   "source": [
    "t, p = paired_ttest_kfold_cv(estimator1=arrhythmia_stump,\n",
    "                              estimator2=arrhythmia_model,\n",
    "                              X=arrhythmia_x, y=arrhythmia_y,\n",
    "                              random_seed=1234)\n",
    "print('t statistic: %.3f' % t)\n",
    "print('p value: %.3f' % p)"
   ]
  },
  {
   "cell_type": "markdown",
   "id": "34b2fce7",
   "metadata": {},
   "source": [
    "Because p value is 0.133, which is greater than 0.05, that's means the error rates of arrhythmia decision stump and unpruned decision tree are the same. There is no evidence support that there is statistically difference between arrhythmia decision stump and unpruned decision tree. "
   ]
  },
  {
   "cell_type": "markdown",
   "id": "58d904ef",
   "metadata": {},
   "source": [
    "Compare decision stump and pruned decision tree"
   ]
  },
  {
   "cell_type": "markdown",
   "id": "932539c9",
   "metadata": {},
   "source": [
    "Null hypothesis (H0) = Error rates of arrhythmia decision stump and pruned decision tree are the same"
   ]
  },
  {
   "cell_type": "code",
   "execution_count": 50,
   "id": "6a1b4871",
   "metadata": {},
   "outputs": [
    {
     "name": "stdout",
     "output_type": "stream",
     "text": [
      "t statistic: -3.709\n",
      "p value: 0.005\n",
      "Accuracy on decision stump test set: 56.04%\n",
      "Accuracy on pruned decision tree test set: 80.22%\n"
     ]
    }
   ],
   "source": [
    "t, p = paired_ttest_kfold_cv(estimator1=arrhythmia_stump,\n",
    "                              estimator2=arrhythmia_model_search,\n",
    "                              X=arrhythmia_x, y=arrhythmia_y,\n",
    "                              random_seed=1234)\n",
    "print('t statistic: %.3f' % t)\n",
    "print('p value: %.3f' % p)\n",
    "\n",
    "score = arrhythmia_stump.score(arrhythmia_x_test, arrhythmia_y_test)\n",
    "print('Accuracy on decision stump test set: {:.2f}%'.format(score * 100))\n",
    "score = arrhythmia_model_search.score(arrhythmia_x_test, arrhythmia_y_test)\n",
    "print('Accuracy on pruned decision tree test set: {:.2f}%'.format(score * 100))"
   ]
  },
  {
   "cell_type": "markdown",
   "id": "74613234",
   "metadata": {},
   "source": [
    "Because p value is 0.005, which is less than 0.05, that's means the arrhythmia decision stump and pruned decision tree having the same error rates is less than 5%. So there is evidence support that there is statistically difference between arrhythmia decision stump and pruned decision tree. The error rate of pruned decision tree is less than decision stump, so in that case the decision stump is worse than pruned decision tree."
   ]
  },
  {
   "cell_type": "markdown",
   "id": "a6b0647d",
   "metadata": {},
   "source": [
    "Compare unpruned decision tree and pruned decision tree"
   ]
  },
  {
   "cell_type": "markdown",
   "id": "f3d9de18",
   "metadata": {},
   "source": [
    "Null hypothesis (H0) = Error rates of arrhythmia unpruned decision tree and pruned decision tree are the same"
   ]
  },
  {
   "cell_type": "code",
   "execution_count": 51,
   "id": "9358f58e",
   "metadata": {},
   "outputs": [
    {
     "name": "stdout",
     "output_type": "stream",
     "text": [
      "t statistic: -1.746\n",
      "p value: 0.115\n"
     ]
    }
   ],
   "source": [
    "t, p = paired_ttest_kfold_cv(estimator1=arrhythmia_model,\n",
    "                              estimator2=arrhythmia_model_search,\n",
    "                              X=arrhythmia_x, y=arrhythmia_y,\n",
    "                              random_seed=1234)\n",
    "print('t statistic: %.3f' % t)\n",
    "print('p value: %.3f' % p)"
   ]
  },
  {
   "cell_type": "markdown",
   "id": "c17d07d7",
   "metadata": {},
   "source": [
    "Because p value is 0.115, which is greater than 0.05, that's means the error rates of arrhythmia unpruned decision tree and pruned decision tree are the same. There is no evidence support that there is statistically difference between arrhythmia unpruned decision tree and pruned decision tree. "
   ]
  },
  {
   "cell_type": "markdown",
   "id": "0b64ddf4",
   "metadata": {},
   "source": [
    "###### Sumary"
   ]
  },
  {
   "cell_type": "markdown",
   "id": "3e75e46c",
   "metadata": {},
   "source": [
    "After compare all three models in each dataset, the decision stump is the worst method than others, that might due to the decision stump is underfitting and have the high bias. "
   ]
  },
  {
   "cell_type": "markdown",
   "id": "a38dcef3",
   "metadata": {},
   "source": [
    "### Task5"
   ]
  },
  {
   "cell_type": "markdown",
   "id": "c0806520",
   "metadata": {},
   "source": [
    "###### website-phishing dataset"
   ]
  },
  {
   "cell_type": "markdown",
   "id": "6746ba5e",
   "metadata": {},
   "source": [
    "In the following code, used the Cost Complexity Pruning for puring the decision tree. "
   ]
  },
  {
   "cell_type": "code",
   "execution_count": 52,
   "id": "0f6f075e",
   "metadata": {},
   "outputs": [
    {
     "data": {
      "text/plain": [
       "Text(0.5, 1.0, 'Total Impurity vs effective alpha for training set')"
      ]
     },
     "execution_count": 52,
     "metadata": {},
     "output_type": "execute_result"
    },
    {
     "data": {
      "image/png": "[encoded data removed]",
      "text/plain": [
       "<Figure size 432x288 with 1 Axes>"
      ]
     },
     "metadata": {
      "needs_background": "light"
     },
     "output_type": "display_data"
    }
   ],
   "source": [
    "wp_model_after = DecisionTreeClassifier(random_state=1234)\n",
    "path = wp_model_after.cost_complexity_pruning_path(wp_x_train, wp_y_train)\n",
    "ccp_alphas, impurities = path.ccp_alphas, path.impurities\n",
    "\n",
    "fig, ax = plt.subplots()\n",
    "ax.plot(ccp_alphas[:-1], impurities[:-1], marker=\"o\", drawstyle=\"steps-post\")\n",
    "ax.set_xlabel(\"effective alpha\")\n",
    "ax.set_ylabel(\"total impurity of leaves\")\n",
    "ax.set_title(\"Total Impurity vs effective alpha for training set\")"
   ]
  },
  {
   "cell_type": "code",
   "execution_count": 53,
   "id": "ee191f11",
   "metadata": {},
   "outputs": [
    {
     "name": "stdout",
     "output_type": "stream",
     "text": [
      "Number of nodes in the last tree is: 3 with ccp_alpha: 0.29777666539024755\n"
     ]
    }
   ],
   "source": [
    "clfs = []\n",
    "for ccp_alpha in ccp_alphas:\n",
    "    clf = DecisionTreeClassifier(random_state=0, ccp_alpha=ccp_alpha)\n",
    "    clf.fit(wp_x_train, wp_y_train)\n",
    "    clfs.append(clf)\n",
    "print(\n",
    "    \"Number of nodes in the last tree is: {} with ccp_alpha: {}\".format(\n",
    "        clfs[-1].tree_.node_count, ccp_alphas[-1]\n",
    "    )\n",
    ")"
   ]
  },
  {
   "cell_type": "code",
   "execution_count": 54,
   "id": "a140caf6",
   "metadata": {},
   "outputs": [
    {
     "data": {
      "image/png": "[encoded data removed]",
      "text/plain": [
       "<Figure size 432x288 with 1 Axes>"
      ]
     },
     "metadata": {
      "needs_background": "light"
     },
     "output_type": "display_data"
    }
   ],
   "source": [
    "clfs = clfs[:-1]\n",
    "ccp_alphas = ccp_alphas[:-1]\n",
    "\n",
    "train_scores = [clf.score(wp_x_train, wp_y_train) for clf in clfs]\n",
    "test_scores = [clf.score(wp_x_test, wp_y_test) for clf in clfs]\n",
    "\n",
    "fig, ax = plt.subplots()\n",
    "ax.set_xlabel(\"alpha\")\n",
    "ax.set_ylabel(\"accuracy\")\n",
    "ax.set_title(\"Accuracy vs alpha for training and testing sets\")\n",
    "ax.plot(ccp_alphas, train_scores, marker=\"o\", label=\"train\", drawstyle=\"steps-post\")\n",
    "ax.plot(ccp_alphas, test_scores, marker=\"o\", label=\"test\", drawstyle=\"steps-post\")\n",
    "ax.legend()\n",
    "plt.show()"
   ]
  },
  {
   "cell_type": "markdown",
   "id": "a8d26ab7",
   "metadata": {},
   "source": [
    "Pick the 0.004 as ccp_alpha for puring the tree. "
   ]
  },
  {
   "cell_type": "code",
   "execution_count": 55,
   "id": "dc811d49",
   "metadata": {},
   "outputs": [
    {
     "name": "stdout",
     "output_type": "stream",
     "text": [
      "t statistic: -5.687\n",
      "p value: 0.000\n",
      "Accuracy on post purn decision tree test set: 91.45%\n",
      "Accuracy on pur pruned decision tree test set: 98.51%\n"
     ]
    }
   ],
   "source": [
    "wp_model_after = DecisionTreeClassifier(random_state=1234,ccp_alpha=0.004)\n",
    "t, p = paired_ttest_kfold_cv(estimator1=wp_model_after,\n",
    "                              estimator2=wp_search,\n",
    "                              X=wp_x, y=wp_y,\n",
    "                              random_seed=1234)\n",
    "print('t statistic: %.3f' % t)\n",
    "print('p value: %.3f' % p)\n",
    "score = wp_model_after.score(wp_x_test, wp_y_test)\n",
    "print('Accuracy on post purn decision tree test set: {:.2f}%'.format(score * 100))\n",
    "score = wp_search.score(wp_x_test, wp_y_test)\n",
    "print('Accuracy on pur pruned decision tree test set: {:.2f}%'.format(score * 100))"
   ]
  },
  {
   "cell_type": "markdown",
   "id": "1a3b51a8",
   "metadata": {},
   "source": [
    "From the t-test result, the post purn decision tree is worse than pre-purning tree."
   ]
  },
  {
   "cell_type": "markdown",
   "id": "06d05214",
   "metadata": {},
   "source": [
    "###### BCP dataset"
   ]
  },
  {
   "cell_type": "code",
   "execution_count": 56,
   "id": "8ccf5fca",
   "metadata": {},
   "outputs": [
    {
     "data": {
      "text/plain": [
       "Text(0.5, 1.0, 'Total Impurity vs effective alpha for training set')"
      ]
     },
     "execution_count": 56,
     "metadata": {},
     "output_type": "execute_result"
    },
    {
     "data": {
      "image/png": "[encoded data removed]",
      "text/plain": [
       "<Figure size 432x288 with 1 Axes>"
      ]
     },
     "metadata": {
      "needs_background": "light"
     },
     "output_type": "display_data"
    }
   ],
   "source": [
    "bcp_model_after = DecisionTreeClassifier(random_state=1234)\n",
    "path = bcp_model_after.cost_complexity_pruning_path(bcp_x_train, bcp_y_train)\n",
    "ccp_alphas, impurities = path.ccp_alphas, path.impurities\n",
    "\n",
    "fig, ax = plt.subplots()\n",
    "ax.plot(ccp_alphas[:-1], impurities[:-1], marker=\"o\", drawstyle=\"steps-post\")\n",
    "ax.set_xlabel(\"effective alpha\")\n",
    "ax.set_ylabel(\"total impurity of leaves\")\n",
    "ax.set_title(\"Total Impurity vs effective alpha for training set\")"
   ]
  },
  {
   "cell_type": "code",
   "execution_count": 57,
   "id": "14e8d762",
   "metadata": {},
   "outputs": [
    {
     "name": "stdout",
     "output_type": "stream",
     "text": [
      "Number of nodes in the last tree is: 1 with ccp_alpha: 0.33257339029853983\n"
     ]
    }
   ],
   "source": [
    "clfs = []\n",
    "for ccp_alpha in ccp_alphas:\n",
    "    clf = DecisionTreeClassifier(random_state=0, ccp_alpha=ccp_alpha)\n",
    "    clf.fit(bcp_x_train, bcp_y_train)\n",
    "    clfs.append(clf)\n",
    "print(\n",
    "    \"Number of nodes in the last tree is: {} with ccp_alpha: {}\".format(\n",
    "        clfs[-1].tree_.node_count, ccp_alphas[-1]\n",
    "    )\n",
    ")"
   ]
  },
  {
   "cell_type": "code",
   "execution_count": 58,
   "id": "26590955",
   "metadata": {},
   "outputs": [
    {
     "data": {
      "image/png": "[encoded data removed]",
      "text/plain": [
       "<Figure size 432x288 with 1 Axes>"
      ]
     },
     "metadata": {
      "needs_background": "light"
     },
     "output_type": "display_data"
    }
   ],
   "source": [
    "clfs = clfs[:-1]\n",
    "ccp_alphas = ccp_alphas[:-1]\n",
    "\n",
    "train_scores = [clf.score(bcp_x_train, bcp_y_train) for clf in clfs]\n",
    "test_scores = [clf.score(bcp_x_test, bcp_y_test) for clf in clfs]\n",
    "\n",
    "fig, ax = plt.subplots()\n",
    "ax.set_xlabel(\"alpha\")\n",
    "ax.set_ylabel(\"accuracy\")\n",
    "ax.set_title(\"Accuracy vs alpha for training and testing sets\")\n",
    "ax.plot(ccp_alphas, train_scores, marker=\"o\", label=\"train\", drawstyle=\"steps-post\")\n",
    "ax.plot(ccp_alphas, test_scores, marker=\"o\", label=\"test\", drawstyle=\"steps-post\")\n",
    "ax.legend()\n",
    "plt.show()"
   ]
  },
  {
   "cell_type": "markdown",
   "id": "4e48b8ac",
   "metadata": {},
   "source": [
    "Take 0.007 as ccp_alpha. "
   ]
  },
  {
   "cell_type": "code",
   "execution_count": 59,
   "id": "7b123a43",
   "metadata": {},
   "outputs": [
    {
     "name": "stdout",
     "output_type": "stream",
     "text": [
      "t statistic: 1.231\n",
      "p value: 0.250\n",
      "Accuracy on post purn decision tree test set: 97.81%\n",
      "Accuracy on pur pruned decision tree test set: 98.54%\n"
     ]
    }
   ],
   "source": [
    "bcp_model_after = DecisionTreeClassifier(random_state=1234,ccp_alpha=0.007)\n",
    "t, p = paired_ttest_kfold_cv(estimator1=bcp_model_after,\n",
    "                              estimator2=bcp_search,\n",
    "                              X=bcp_x, y=bcp_y,\n",
    "                              random_seed=1234)\n",
    "print('t statistic: %.3f' % t)\n",
    "print('p value: %.3f' % p)\n",
    "score = bcp_model_after.score(bcp_x_test, bcp_y_test)\n",
    "print('Accuracy on post purn decision tree test set: {:.2f}%'.format(score * 100))\n",
    "score = bcp_search.score(bcp_x_test, bcp_y_test)\n",
    "print('Accuracy on pur pruned decision tree test set: {:.2f}%'.format(score * 100))"
   ]
  },
  {
   "cell_type": "markdown",
   "id": "183a1185",
   "metadata": {},
   "source": [
    "Because p value is 0.25, which is greater than 0.05, that's means the error rates of post-purning decision tree and pre-puring decision tree are the same. There is no evidence support that there is statistically difference between post-purning decision tree and pre-puring decision tree."
   ]
  },
  {
   "cell_type": "markdown",
   "id": "1b0ab3ef",
   "metadata": {},
   "source": [
    "###### arrhythmia dataset"
   ]
  },
  {
   "cell_type": "code",
   "execution_count": 60,
   "id": "2df07879",
   "metadata": {},
   "outputs": [
    {
     "data": {
      "text/plain": [
       "Text(0.5, 1.0, 'Total Impurity vs effective alpha for training set')"
      ]
     },
     "execution_count": 60,
     "metadata": {},
     "output_type": "execute_result"
    },
    {
     "data": {
      "image/png": "[encoded data removed]",
      "text/plain": [
       "<Figure size 432x288 with 1 Axes>"
      ]
     },
     "metadata": {
      "needs_background": "light"
     },
     "output_type": "display_data"
    }
   ],
   "source": [
    "arrhythmia_model_after = DecisionTreeClassifier(random_state=1234)\n",
    "path = bcp_model_after.cost_complexity_pruning_path(arrhythmia_x_train, arrhythmia_y_train)\n",
    "ccp_alphas, impurities = path.ccp_alphas, path.impurities\n",
    "\n",
    "fig, ax = plt.subplots()\n",
    "ax.plot(ccp_alphas[:-1], impurities[:-1], marker=\"o\", drawstyle=\"steps-post\")\n",
    "ax.set_xlabel(\"effective alpha\")\n",
    "ax.set_ylabel(\"total impurity of leaves\")\n",
    "ax.set_title(\"Total Impurity vs effective alpha for training set\")"
   ]
  },
  {
   "cell_type": "code",
   "execution_count": 61,
   "id": "a152c434",
   "metadata": {},
   "outputs": [
    {
     "name": "stdout",
     "output_type": "stream",
     "text": [
      "Number of nodes in the last tree is: 1 with ccp_alpha: 0.06924081868043847\n"
     ]
    }
   ],
   "source": [
    "clfs = []\n",
    "for ccp_alpha in ccp_alphas:\n",
    "    clf = DecisionTreeClassifier(random_state=0, ccp_alpha=ccp_alpha)\n",
    "    clf.fit(arrhythmia_x_train, arrhythmia_y_train)\n",
    "    clfs.append(clf)\n",
    "print(\n",
    "    \"Number of nodes in the last tree is: {} with ccp_alpha: {}\".format(\n",
    "        clfs[-1].tree_.node_count, ccp_alphas[-1]\n",
    "    )\n",
    ")"
   ]
  },
  {
   "cell_type": "code",
   "execution_count": 62,
   "id": "3bea2274",
   "metadata": {},
   "outputs": [
    {
     "data": {
      "image/png": "[encoded data removed]",
      "text/plain": [
       "<Figure size 432x288 with 1 Axes>"
      ]
     },
     "metadata": {
      "needs_background": "light"
     },
     "output_type": "display_data"
    }
   ],
   "source": [
    "clfs = clfs[:-1]\n",
    "ccp_alphas = ccp_alphas[:-1]\n",
    "\n",
    "train_scores = [clf.score(arrhythmia_x_train, arrhythmia_y_train) for clf in clfs]\n",
    "test_scores = [clf.score(arrhythmia_x_test, arrhythmia_y_test) for clf in clfs]\n",
    "\n",
    "fig, ax = plt.subplots()\n",
    "ax.set_xlabel(\"alpha\")\n",
    "ax.set_ylabel(\"accuracy\")\n",
    "ax.set_title(\"Accuracy vs alpha for training and testing sets\")\n",
    "ax.plot(ccp_alphas, train_scores, marker=\"o\", label=\"train\", drawstyle=\"steps-post\")\n",
    "ax.plot(ccp_alphas, test_scores, marker=\"o\", label=\"test\", drawstyle=\"steps-post\")\n",
    "ax.legend()\n",
    "plt.show()"
   ]
  },
  {
   "cell_type": "markdown",
   "id": "62c26b52",
   "metadata": {},
   "source": [
    "Take 0.011 as ccp_alpha value for post-puring decision tree. "
   ]
  },
  {
   "cell_type": "code",
   "execution_count": 63,
   "id": "b0a886cd",
   "metadata": {},
   "outputs": [
    {
     "name": "stderr",
     "output_type": "stream",
     "text": [
      "C:\\Users\\zhaog\\anaconda3\\envs\\venv\\lib\\site-packages\\sklearn\\model_selection\\_split.py:676: UserWarning: The least populated class in y has only 1 members, which is less than n_splits=5.\n",
      "  warnings.warn(\n",
      "C:\\Users\\zhaog\\anaconda3\\envs\\venv\\lib\\site-packages\\sklearn\\model_selection\\_split.py:676: UserWarning: The least populated class in y has only 2 members, which is less than n_splits=5.\n",
      "  warnings.warn(\n",
      "C:\\Users\\zhaog\\anaconda3\\envs\\venv\\lib\\site-packages\\sklearn\\model_selection\\_split.py:676: UserWarning: The least populated class in y has only 2 members, which is less than n_splits=5.\n",
      "  warnings.warn(\n",
      "C:\\Users\\zhaog\\anaconda3\\envs\\venv\\lib\\site-packages\\sklearn\\model_selection\\_split.py:676: UserWarning: The least populated class in y has only 2 members, which is less than n_splits=5.\n",
      "  warnings.warn(\n",
      "C:\\Users\\zhaog\\anaconda3\\envs\\venv\\lib\\site-packages\\sklearn\\model_selection\\_split.py:676: UserWarning: The least populated class in y has only 2 members, which is less than n_splits=5.\n",
      "  warnings.warn(\n",
      "C:\\Users\\zhaog\\anaconda3\\envs\\venv\\lib\\site-packages\\sklearn\\model_selection\\_split.py:676: UserWarning: The least populated class in y has only 2 members, which is less than n_splits=5.\n",
      "  warnings.warn(\n",
      "C:\\Users\\zhaog\\anaconda3\\envs\\venv\\lib\\site-packages\\sklearn\\model_selection\\_split.py:676: UserWarning: The least populated class in y has only 2 members, which is less than n_splits=5.\n",
      "  warnings.warn(\n",
      "C:\\Users\\zhaog\\anaconda3\\envs\\venv\\lib\\site-packages\\sklearn\\model_selection\\_split.py:676: UserWarning: The least populated class in y has only 2 members, which is less than n_splits=5.\n",
      "  warnings.warn(\n",
      "C:\\Users\\zhaog\\anaconda3\\envs\\venv\\lib\\site-packages\\sklearn\\model_selection\\_split.py:676: UserWarning: The least populated class in y has only 1 members, which is less than n_splits=5.\n",
      "  warnings.warn(\n",
      "C:\\Users\\zhaog\\anaconda3\\envs\\venv\\lib\\site-packages\\sklearn\\model_selection\\_split.py:676: UserWarning: The least populated class in y has only 2 members, which is less than n_splits=5.\n",
      "  warnings.warn(\n"
     ]
    },
    {
     "name": "stdout",
     "output_type": "stream",
     "text": [
      "t statistic: 1.534\n",
      "p value: 0.159\n",
      "Accuracy on post purn decision tree test set: 75.82%\n",
      "Accuracy on pur pruned decision tree test set: 79.12%\n"
     ]
    }
   ],
   "source": [
    "arrhythmia_model_after = DecisionTreeClassifier(random_state=1234,ccp_alpha=0.011)\n",
    "t, p = paired_ttest_kfold_cv(estimator1=arrhythmia_model_after,\n",
    "                              estimator2=arrhythmia_search,\n",
    "                              X=arrhythmia_x, y=arrhythmia_y,\n",
    "                              random_seed=1234)\n",
    "print('t statistic: %.3f' % t)\n",
    "print('p value: %.3f' % p)\n",
    "score = arrhythmia_model_after.score(arrhythmia_x_test, arrhythmia_y_test)\n",
    "print('Accuracy on post purn decision tree test set: {:.2f}%'.format(score * 100))\n",
    "score = arrhythmia_search.score(arrhythmia_x_test, arrhythmia_y_test)\n",
    "print('Accuracy on pur pruned decision tree test set: {:.2f}%'.format(score * 100))"
   ]
  },
  {
   "cell_type": "markdown",
   "id": "f4ec918c",
   "metadata": {},
   "source": [
    "Because p value is 0.159, which is greater than 0.05, that's means the error rates of post-purning decision tree and pre-puring decision tree are the same. There is no evidence support that there is statistically difference between post-purning decision tree and pre-puring decision tree."
   ]
  }
 ],
 "metadata": {
  "kernelspec": {
   "display_name": "Python 3 (ipykernel)",
   "language": "python",
   "name": "python3"
  },
  "language_info": {
   "codemirror_mode": {
    "name": "ipython",
    "version": 3
   },
   "file_extension": ".py",
   "mimetype": "text/x-python",
   "name": "python",
   "nbconvert_exporter": "python",
   "pygments_lexer": "ipython3",
   "version": "3.10.2"
  }
 },
 "nbformat": 4,
 "nbformat_minor": 5
}
